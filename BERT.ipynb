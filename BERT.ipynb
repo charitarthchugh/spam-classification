{
 "cells": [
  {
   "cell_type": "markdown",
   "metadata": {},
   "source": [
    "# Testing Notebook"
   ]
  },
  {
   "cell_type": "code",
   "execution_count": 11,
   "metadata": {},
   "outputs": [],
   "source": [
    "import numpy as np\n",
    "import pandas as pd\n",
    "import torch\n",
    "import transformers\n",
    "\n",
    "# from koila import lazy\n",
    "from sklearn import metrics\n",
    "from sklearn.model_selection import train_test_split\n",
    "from torch import nn\n",
    "from torch.utils.data import Dataset, DataLoader\n",
    "from tqdm import tqdm\n",
    "from transformers import AdamW, get_linear_schedule_with_warmup\n",
    "from transformers.file_utils import PaddingStrategy\n",
    "\n",
    "import config\n",
    "\n",
    "# from src import config"
   ]
  },
  {
   "cell_type": "code",
   "execution_count": 12,
   "metadata": {},
   "outputs": [],
   "source": [
    "class BERTBaseUncased(nn.Module):\n",
    "    def __init__(self):\n",
    "        super(BERTBaseUncased, self).__init__()\n",
    "        self.bert = transformers.BertModel.from_pretrained(\"bert-base-uncased\")\n",
    "        self.bert_drop = nn.Dropout(p=0.3)\n",
    "        self.out = nn.Linear(768, 1)\n",
    "\n",
    "    @autocast()\n",
    "    def forward(self, ids, mask, token_type_ids):\n",
    "        t, out = self.bert(\n",
    "            ids, attention_mask=mask, token_type_ids=token_type_ids, return_dict=False\n",
    "        )\n",
    "        bo = self.bert_drop(out)\n",
    "        out = self.out(bo)\n",
    "        return out"
   ]
  },
  {
   "cell_type": "code",
   "execution_count": 13,
   "metadata": {},
   "outputs": [],
   "source": [
    "class SpamDataset(Dataset):\n",
    "    def __init__(self, texts, target):\n",
    "        self.texts = texts\n",
    "        self.target = target\n",
    "        self.tokenizer = config.TOKENIZER\n",
    "        self.max_len = config.MAX_LEN\n",
    "\n",
    "    def __len__(self):\n",
    "        return len(self.texts)\n",
    "\n",
    "    def __getitem__(self, item) -> dict[str, torch.Tensor]:\n",
    "        text = str(self.texts[item])\n",
    "        text = \" \".join(text.split())\n",
    "        inputs = self.tokenizer.encode_plus(\n",
    "            text,\n",
    "            None,\n",
    "            add_special_tokens=True,\n",
    "            max_length=self.max_len,\n",
    "            padding=PaddingStrategy(\"max_length\"),\n",
    "        )\n",
    "        ids = inputs[\"input_ids\"]\n",
    "        mask = inputs[\"attention_mask\"]\n",
    "        token_type_ids = inputs[\"token_type_ids\"]\n",
    "        return {\n",
    "            \"ids\": torch.tensor(ids, dtype=torch.long),\n",
    "            \"token_type_ids\": torch.tensor(token_type_ids, dtype=torch.long),\n",
    "            \"target\": torch.tensor(self.target[item], dtype=torch.float),\n",
    "            \"mask\": torch.tensor(mask, dtype=torch.long),\n",
    "        }"
   ]
  },
  {
   "cell_type": "code",
   "execution_count": 14,
   "metadata": {
    "collapsed": false,
    "pycharm": {
     "name": "#%%\n"
    }
   },
   "outputs": [],
   "source": [
    "def loss_fn(outputs, targets):\n",
    "    return nn.BCEWithLogitsLoss()(outputs, targets.view[-1, 1])\n",
    "\n",
    "\n",
    "def train_fn(\n",
    "    data_loader: DataLoader,\n",
    "    model: nn.Module,\n",
    "    optimizer,\n",
    "    device: torch.device,\n",
    "    scheduler=transformers.get_scheduler,\n",
    "):\n",
    "    model.train()\n",
    "    for bi, d in tqdm(enumerate(data_loader), total=len(data_loader)):\n",
    "        ids = d[\"ids\"]\n",
    "        token_type_ids = d[\"token_type_ids\"]\n",
    "        mask = d[\"mask\"]\n",
    "        targets = d[\"target\"]\n",
    "\n",
    "        ids = ids.to(device, dtype=torch.long)\n",
    "        token_type_ids = token_type_ids.to(device, dtype=torch.long)\n",
    "        mask = mask.to(device, dtype=torch.long)\n",
    "        targets = targets.to(device, dtype=torch.float)\n",
    "\n",
    "        # ids, token_type_ids, mask = lazy(ids, token_type_ids, mask, batch=0)\n",
    "        # targets = lazy(targets)\n",
    "\n",
    "        optimizer.zero_grad()\n",
    "        outputs = model(ids=ids, mask=mask, token_type_ids=token_type_ids)\n",
    "        # outputs = lazy(outputs)\n",
    "        loss = loss_fn(outputs, targets)\n",
    "        loss.backward()\n",
    "        optimizer.step()\n",
    "        scheduler.step()\n",
    "\n",
    "\n",
    "def eval_fn(\n",
    "    data_loader: torch.utils.data.DataLoader,\n",
    "    model: nn.Module,\n",
    "    device: torch.device = torch.device(\"cuda\" if torch.cuda.is_available() else \"cpu\"),\n",
    ") -> tuple[list[float], list[float]]:\n",
    "    model.eval()\n",
    "    fin_targets = []\n",
    "    fin_outputs = []\n",
    "    with torch.no_grad():\n",
    "        for b, d in tqdm(enumerate(data_loader), total=len(data_loader)):\n",
    "            ids = d[\"ids\"]\n",
    "            token_type_ids = d[\"token_type_ids\"]\n",
    "            mask = d[\"mask\"]\n",
    "            targets = d[\"target\"]\n",
    "\n",
    "            ids = ids.to(device, dtype=torch.long)\n",
    "            token_type_ids = token_type_ids.to(device, dtype=torch.long)\n",
    "            mask = mask.to(device, dtype=torch.long)\n",
    "            targets = targets.to(device, dtype=torch.float)\n",
    "\n",
    "            # ids, token_type_ids, mask = lazy(ids, token_type_ids, mask, batch=0)\n",
    "            # targets = lazy(targets)\n",
    "\n",
    "            outputs = model(ids=ids, mask=mask, token_type_ids=token_type_ids)\n",
    "            fin_targets.extend(targets.cpu().detach().numpy().tolist())\n",
    "            fin_outputs.extend(torch.sigmoid(outputs).cpu().detach().numpy().tolist())\n",
    "    return fin_outputs, fin_targets"
   ]
  },
  {
   "cell_type": "code",
   "execution_count": 15,
   "metadata": {
    "collapsed": false,
    "pycharm": {
     "name": "#%%\n"
    }
   },
   "outputs": [],
   "source": [
    "# df = pd.read_csv(config.TRAINING_FILE)\n",
    "# df.targets.unique()"
   ]
  },
  {
   "cell_type": "code",
   "execution_count": 16,
   "metadata": {
    "collapsed": false,
    "pycharm": {
     "name": "#%%\n"
    }
   },
   "outputs": [
    {
     "name": "stderr",
     "output_type": "stream",
     "text": [
      "Some weights of the model checkpoint at distilbert-base-uncased were not used when initializing DistilBertModel: ['vocab_projector.bias', 'vocab_projector.weight', 'vocab_transform.weight', 'vocab_layer_norm.bias', 'vocab_layer_norm.weight', 'vocab_transform.bias']\n",
      "- This IS expected if you are initializing DistilBertModel from the checkpoint of a model trained on another task or with another architecture (e.g. initializing a BertForSequenceClassification model from a BertForPreTraining model).\n",
      "- This IS NOT expected if you are initializing DistilBertModel from the checkpoint of a model that you expect to be exactly identical (initializing a BertForSequenceClassification model from a BertForSequenceClassification model).\n",
      "/home/cc/.local/share/virtualenvs/spam-classification-q9BQGTmL-py3.9/lib/python3.9/site-packages/transformers/optimization.py:306: FutureWarning: This implementation of AdamW is deprecated and will be removed in a future version. Use the PyTorch implementation torch.optim.AdamW instead, or set `no_deprecation_warning=True` to disable this warning\n",
      "  warnings.warn(\n",
      "  0%|          | 0/418 [00:00<?, ?it/s]\n"
     ]
    },
    {
     "ename": "TypeError",
     "evalue": "forward() got an unexpected keyword argument 'token_type_ids'",
     "output_type": "error",
     "traceback": [
      "\u001b[0;31m---------------------------------------------------------------------------\u001b[0m",
      "\u001b[0;31mTypeError\u001b[0m                                 Traceback (most recent call last)",
      "\u001b[1;32m/home/cc/Dev/IdeaProjects/Personal/Python/MachineLearning/spam-classification/notebooks/pytorch.ipynb Cell 7'\u001b[0m in \u001b[0;36m<cell line: 70>\u001b[0;34m()\u001b[0m\n\u001b[1;32m     <a href='vscode-notebook-cell:/home/cc/Dev/IdeaProjects/Personal/Python/MachineLearning/spam-classification/notebooks/pytorch.ipynb#ch0000006?line=65'>66</a>\u001b[0m             torch\u001b[39m.\u001b[39msave(model\u001b[39m.\u001b[39mstate_dict(), \u001b[39mf\u001b[39m\u001b[39m\"\u001b[39m\u001b[39m{\u001b[39;00mepochs\u001b[39m}\u001b[39;00m\u001b[39m-\u001b[39m\u001b[39m\"\u001b[39m\u001b[39m.\u001b[39mjoin(config\u001b[39m.\u001b[39mMODEL_PATH))\n\u001b[1;32m     <a href='vscode-notebook-cell:/home/cc/Dev/IdeaProjects/Personal/Python/MachineLearning/spam-classification/notebooks/pytorch.ipynb#ch0000006?line=66'>67</a>\u001b[0m             best_accuracy \u001b[39m=\u001b[39m accuracy\n\u001b[0;32m---> <a href='vscode-notebook-cell:/home/cc/Dev/IdeaProjects/Personal/Python/MachineLearning/spam-classification/notebooks/pytorch.ipynb#ch0000006?line=69'>70</a>\u001b[0m run()\n",
      "\u001b[1;32m/home/cc/Dev/IdeaProjects/Personal/Python/MachineLearning/spam-classification/notebooks/pytorch.ipynb Cell 7'\u001b[0m in \u001b[0;36mrun\u001b[0;34m()\u001b[0m\n\u001b[1;32m     <a href='vscode-notebook-cell:/home/cc/Dev/IdeaProjects/Personal/Python/MachineLearning/spam-classification/notebooks/pytorch.ipynb#ch0000006?line=51'>52</a>\u001b[0m best_accuracy \u001b[39m=\u001b[39m \u001b[39m0\u001b[39m\n\u001b[1;32m     <a href='vscode-notebook-cell:/home/cc/Dev/IdeaProjects/Personal/Python/MachineLearning/spam-classification/notebooks/pytorch.ipynb#ch0000006?line=52'>53</a>\u001b[0m \u001b[39mfor\u001b[39;00m epochs \u001b[39min\u001b[39;00m \u001b[39mrange\u001b[39m(config\u001b[39m.\u001b[39mEPOCHS):\n\u001b[0;32m---> <a href='vscode-notebook-cell:/home/cc/Dev/IdeaProjects/Personal/Python/MachineLearning/spam-classification/notebooks/pytorch.ipynb#ch0000006?line=53'>54</a>\u001b[0m     train_fn(\n\u001b[1;32m     <a href='vscode-notebook-cell:/home/cc/Dev/IdeaProjects/Personal/Python/MachineLearning/spam-classification/notebooks/pytorch.ipynb#ch0000006?line=54'>55</a>\u001b[0m         data_loader\u001b[39m=\u001b[39;49mtrain_dl,\n\u001b[1;32m     <a href='vscode-notebook-cell:/home/cc/Dev/IdeaProjects/Personal/Python/MachineLearning/spam-classification/notebooks/pytorch.ipynb#ch0000006?line=55'>56</a>\u001b[0m         model\u001b[39m=\u001b[39;49mmodel,\n\u001b[1;32m     <a href='vscode-notebook-cell:/home/cc/Dev/IdeaProjects/Personal/Python/MachineLearning/spam-classification/notebooks/pytorch.ipynb#ch0000006?line=56'>57</a>\u001b[0m         optimizer\u001b[39m=\u001b[39;49moptimizer,\n\u001b[1;32m     <a href='vscode-notebook-cell:/home/cc/Dev/IdeaProjects/Personal/Python/MachineLearning/spam-classification/notebooks/pytorch.ipynb#ch0000006?line=57'>58</a>\u001b[0m         device\u001b[39m=\u001b[39;49mdevice,\n\u001b[1;32m     <a href='vscode-notebook-cell:/home/cc/Dev/IdeaProjects/Personal/Python/MachineLearning/spam-classification/notebooks/pytorch.ipynb#ch0000006?line=58'>59</a>\u001b[0m         scheduler\u001b[39m=\u001b[39;49mscheduler,\n\u001b[1;32m     <a href='vscode-notebook-cell:/home/cc/Dev/IdeaProjects/Personal/Python/MachineLearning/spam-classification/notebooks/pytorch.ipynb#ch0000006?line=59'>60</a>\u001b[0m     )\n\u001b[1;32m     <a href='vscode-notebook-cell:/home/cc/Dev/IdeaProjects/Personal/Python/MachineLearning/spam-classification/notebooks/pytorch.ipynb#ch0000006?line=60'>61</a>\u001b[0m     outputs, targets \u001b[39m=\u001b[39m eval_fn(valid_dl, model, device)\n\u001b[1;32m     <a href='vscode-notebook-cell:/home/cc/Dev/IdeaProjects/Personal/Python/MachineLearning/spam-classification/notebooks/pytorch.ipynb#ch0000006?line=61'>62</a>\u001b[0m     outputs \u001b[39m=\u001b[39m np\u001b[39m.\u001b[39marray(outputs) \u001b[39m>\u001b[39m\u001b[39m=\u001b[39m \u001b[39m0.5\u001b[39m\n",
      "\u001b[1;32m/home/cc/Dev/IdeaProjects/Personal/Python/MachineLearning/spam-classification/notebooks/pytorch.ipynb Cell 5'\u001b[0m in \u001b[0;36mtrain_fn\u001b[0;34m(data_loader, model, optimizer, device, scheduler)\u001b[0m\n\u001b[1;32m     <a href='vscode-notebook-cell:/home/cc/Dev/IdeaProjects/Personal/Python/MachineLearning/spam-classification/notebooks/pytorch.ipynb#ch0000004?line=23'>24</a>\u001b[0m \u001b[39m# ids, token_type_ids, mask = lazy(ids, token_type_ids, mask, batch=0)\u001b[39;00m\n\u001b[1;32m     <a href='vscode-notebook-cell:/home/cc/Dev/IdeaProjects/Personal/Python/MachineLearning/spam-classification/notebooks/pytorch.ipynb#ch0000004?line=24'>25</a>\u001b[0m \u001b[39m# targets = lazy(targets)\u001b[39;00m\n\u001b[1;32m     <a href='vscode-notebook-cell:/home/cc/Dev/IdeaProjects/Personal/Python/MachineLearning/spam-classification/notebooks/pytorch.ipynb#ch0000004?line=26'>27</a>\u001b[0m optimizer\u001b[39m.\u001b[39mzero_grad()\n\u001b[0;32m---> <a href='vscode-notebook-cell:/home/cc/Dev/IdeaProjects/Personal/Python/MachineLearning/spam-classification/notebooks/pytorch.ipynb#ch0000004?line=27'>28</a>\u001b[0m outputs \u001b[39m=\u001b[39m model(ids\u001b[39m=\u001b[39;49mids, mask\u001b[39m=\u001b[39;49mmask, token_type_ids\u001b[39m=\u001b[39;49mtoken_type_ids)\n\u001b[1;32m     <a href='vscode-notebook-cell:/home/cc/Dev/IdeaProjects/Personal/Python/MachineLearning/spam-classification/notebooks/pytorch.ipynb#ch0000004?line=28'>29</a>\u001b[0m \u001b[39m#outputs = lazy(outputs)\u001b[39;00m\n\u001b[1;32m     <a href='vscode-notebook-cell:/home/cc/Dev/IdeaProjects/Personal/Python/MachineLearning/spam-classification/notebooks/pytorch.ipynb#ch0000004?line=29'>30</a>\u001b[0m loss \u001b[39m=\u001b[39m loss_fn(outputs, targets)\n",
      "File \u001b[0;32m~/.local/share/virtualenvs/spam-classification-q9BQGTmL-py3.9/lib/python3.9/site-packages/torch/nn/modules/module.py:1102\u001b[0m, in \u001b[0;36mModule._call_impl\u001b[0;34m(self, *input, **kwargs)\u001b[0m\n\u001b[1;32m   <a href='file:///home/cc/.local/share/virtualenvs/spam-classification-q9BQGTmL-py3.9/lib/python3.9/site-packages/torch/nn/modules/module.py?line=1097'>1098</a>\u001b[0m \u001b[39m# If we don't have any hooks, we want to skip the rest of the logic in\u001b[39;00m\n\u001b[1;32m   <a href='file:///home/cc/.local/share/virtualenvs/spam-classification-q9BQGTmL-py3.9/lib/python3.9/site-packages/torch/nn/modules/module.py?line=1098'>1099</a>\u001b[0m \u001b[39m# this function, and just call forward.\u001b[39;00m\n\u001b[1;32m   <a href='file:///home/cc/.local/share/virtualenvs/spam-classification-q9BQGTmL-py3.9/lib/python3.9/site-packages/torch/nn/modules/module.py?line=1099'>1100</a>\u001b[0m \u001b[39mif\u001b[39;00m \u001b[39mnot\u001b[39;00m (\u001b[39mself\u001b[39m\u001b[39m.\u001b[39m_backward_hooks \u001b[39mor\u001b[39;00m \u001b[39mself\u001b[39m\u001b[39m.\u001b[39m_forward_hooks \u001b[39mor\u001b[39;00m \u001b[39mself\u001b[39m\u001b[39m.\u001b[39m_forward_pre_hooks \u001b[39mor\u001b[39;00m _global_backward_hooks\n\u001b[1;32m   <a href='file:///home/cc/.local/share/virtualenvs/spam-classification-q9BQGTmL-py3.9/lib/python3.9/site-packages/torch/nn/modules/module.py?line=1100'>1101</a>\u001b[0m         \u001b[39mor\u001b[39;00m _global_forward_hooks \u001b[39mor\u001b[39;00m _global_forward_pre_hooks):\n\u001b[0;32m-> <a href='file:///home/cc/.local/share/virtualenvs/spam-classification-q9BQGTmL-py3.9/lib/python3.9/site-packages/torch/nn/modules/module.py?line=1101'>1102</a>\u001b[0m     \u001b[39mreturn\u001b[39;00m forward_call(\u001b[39m*\u001b[39;49m\u001b[39minput\u001b[39;49m, \u001b[39m*\u001b[39;49m\u001b[39m*\u001b[39;49mkwargs)\n\u001b[1;32m   <a href='file:///home/cc/.local/share/virtualenvs/spam-classification-q9BQGTmL-py3.9/lib/python3.9/site-packages/torch/nn/modules/module.py?line=1102'>1103</a>\u001b[0m \u001b[39m# Do not call functions when jit is used\u001b[39;00m\n\u001b[1;32m   <a href='file:///home/cc/.local/share/virtualenvs/spam-classification-q9BQGTmL-py3.9/lib/python3.9/site-packages/torch/nn/modules/module.py?line=1103'>1104</a>\u001b[0m full_backward_hooks, non_full_backward_hooks \u001b[39m=\u001b[39m [], []\n",
      "\u001b[1;32m/home/cc/Dev/IdeaProjects/Personal/Python/MachineLearning/spam-classification/notebooks/pytorch.ipynb Cell 3'\u001b[0m in \u001b[0;36mBERTBaseUncased.forward\u001b[0;34m(self, ids, mask, token_type_ids)\u001b[0m\n\u001b[1;32m     <a href='vscode-notebook-cell:/home/cc/Dev/IdeaProjects/Personal/Python/MachineLearning/spam-classification/notebooks/pytorch.ipynb#ch0000002?line=9'>10</a>\u001b[0m \u001b[39mdef\u001b[39;00m \u001b[39mforward\u001b[39m(\u001b[39mself\u001b[39m, ids, mask, token_type_ids):\n\u001b[0;32m---> <a href='vscode-notebook-cell:/home/cc/Dev/IdeaProjects/Personal/Python/MachineLearning/spam-classification/notebooks/pytorch.ipynb#ch0000002?line=10'>11</a>\u001b[0m     t, out \u001b[39m=\u001b[39m \u001b[39mself\u001b[39;49m\u001b[39m.\u001b[39;49mbert(ids, attention_mask\u001b[39m=\u001b[39;49mmask, token_type_ids\u001b[39m=\u001b[39;49mtoken_type_ids, return_dict\u001b[39m=\u001b[39;49m\u001b[39mFalse\u001b[39;49;00m)\n\u001b[1;32m     <a href='vscode-notebook-cell:/home/cc/Dev/IdeaProjects/Personal/Python/MachineLearning/spam-classification/notebooks/pytorch.ipynb#ch0000002?line=11'>12</a>\u001b[0m     bo \u001b[39m=\u001b[39m \u001b[39mself\u001b[39m\u001b[39m.\u001b[39mbert_drop(out)\n\u001b[1;32m     <a href='vscode-notebook-cell:/home/cc/Dev/IdeaProjects/Personal/Python/MachineLearning/spam-classification/notebooks/pytorch.ipynb#ch0000002?line=12'>13</a>\u001b[0m     out \u001b[39m=\u001b[39m \u001b[39mself\u001b[39m\u001b[39m.\u001b[39mout(bo)\n",
      "File \u001b[0;32m~/.local/share/virtualenvs/spam-classification-q9BQGTmL-py3.9/lib/python3.9/site-packages/torch/nn/modules/module.py:1102\u001b[0m, in \u001b[0;36mModule._call_impl\u001b[0;34m(self, *input, **kwargs)\u001b[0m\n\u001b[1;32m   <a href='file:///home/cc/.local/share/virtualenvs/spam-classification-q9BQGTmL-py3.9/lib/python3.9/site-packages/torch/nn/modules/module.py?line=1097'>1098</a>\u001b[0m \u001b[39m# If we don't have any hooks, we want to skip the rest of the logic in\u001b[39;00m\n\u001b[1;32m   <a href='file:///home/cc/.local/share/virtualenvs/spam-classification-q9BQGTmL-py3.9/lib/python3.9/site-packages/torch/nn/modules/module.py?line=1098'>1099</a>\u001b[0m \u001b[39m# this function, and just call forward.\u001b[39;00m\n\u001b[1;32m   <a href='file:///home/cc/.local/share/virtualenvs/spam-classification-q9BQGTmL-py3.9/lib/python3.9/site-packages/torch/nn/modules/module.py?line=1099'>1100</a>\u001b[0m \u001b[39mif\u001b[39;00m \u001b[39mnot\u001b[39;00m (\u001b[39mself\u001b[39m\u001b[39m.\u001b[39m_backward_hooks \u001b[39mor\u001b[39;00m \u001b[39mself\u001b[39m\u001b[39m.\u001b[39m_forward_hooks \u001b[39mor\u001b[39;00m \u001b[39mself\u001b[39m\u001b[39m.\u001b[39m_forward_pre_hooks \u001b[39mor\u001b[39;00m _global_backward_hooks\n\u001b[1;32m   <a href='file:///home/cc/.local/share/virtualenvs/spam-classification-q9BQGTmL-py3.9/lib/python3.9/site-packages/torch/nn/modules/module.py?line=1100'>1101</a>\u001b[0m         \u001b[39mor\u001b[39;00m _global_forward_hooks \u001b[39mor\u001b[39;00m _global_forward_pre_hooks):\n\u001b[0;32m-> <a href='file:///home/cc/.local/share/virtualenvs/spam-classification-q9BQGTmL-py3.9/lib/python3.9/site-packages/torch/nn/modules/module.py?line=1101'>1102</a>\u001b[0m     \u001b[39mreturn\u001b[39;00m forward_call(\u001b[39m*\u001b[39;49m\u001b[39minput\u001b[39;49m, \u001b[39m*\u001b[39;49m\u001b[39m*\u001b[39;49mkwargs)\n\u001b[1;32m   <a href='file:///home/cc/.local/share/virtualenvs/spam-classification-q9BQGTmL-py3.9/lib/python3.9/site-packages/torch/nn/modules/module.py?line=1102'>1103</a>\u001b[0m \u001b[39m# Do not call functions when jit is used\u001b[39;00m\n\u001b[1;32m   <a href='file:///home/cc/.local/share/virtualenvs/spam-classification-q9BQGTmL-py3.9/lib/python3.9/site-packages/torch/nn/modules/module.py?line=1103'>1104</a>\u001b[0m full_backward_hooks, non_full_backward_hooks \u001b[39m=\u001b[39m [], []\n",
      "\u001b[0;31mTypeError\u001b[0m: forward() got an unexpected keyword argument 'token_type_ids'"
     ]
    }
   ],
   "source": [
    "def run():\n",
    "    df = pd.read_csv(config.TRAINING_FILE)\n",
    "    df_train, df_valid = train_test_split(\n",
    "        df,\n",
    "        test_size=0.2,\n",
    "        random_state=42,\n",
    "        stratify=df.targets.values,\n",
    "    )\n",
    "    df_train.reset_index(drop=True, inplace=True)\n",
    "    df_valid.reset_index(drop=True, inplace=True)\n",
    "\n",
    "    train_ds = SpamDataset(texts=df_train.texts.values, target=df_train.targets.values)\n",
    "    train_dl = DataLoader(\n",
    "        dataset=train_ds,\n",
    "        batch_size=config.TRAIN_BATCH_SIZE,\n",
    "        num_workers=4,\n",
    "        pin_memory=True,\n",
    "    )\n",
    "    valid_ds = SpamDataset(\n",
    "        texts=df_valid.texts.values,\n",
    "        target=df_valid.targets.values,\n",
    "    )\n",
    "    valid_dl = DataLoader(\n",
    "        dataset=valid_ds,\n",
    "        batch_size=config.VALID_BATCH_SIZE,\n",
    "        num_workers=1,\n",
    "        pin_memory=True,\n",
    "    )\n",
    "    device = torch.device(\"cuda\")\n",
    "    model = BERTBaseUncased().to(device)\n",
    "    param_optimizer = list(model.named_parameters())\n",
    "    no_decay = [\"bias\", \"LayerNorm.bias\", \"LayerNorm.weight\"]\n",
    "    optimizer_parameters = [\n",
    "        {\n",
    "            \"params\": [\n",
    "                p for n, p in param_optimizer if not any(nd in n for nd in no_decay)\n",
    "            ],\n",
    "            \"weight_decay\": 0.001,\n",
    "        },\n",
    "        {\n",
    "            \"params\": [\n",
    "                p for n, p in param_optimizer if any(nd in n for nd in no_decay)\n",
    "            ],\n",
    "            \"weight_decay\": 0.0,\n",
    "        },\n",
    "    ]\n",
    "    num_train_steps = int(len(df_train) / config.TRAIN_BATCH_SIZE * config.EPOCHS)\n",
    "    optimizer = AdamW(optimizer_parameters, lr=3e-5)\n",
    "    scheduler = get_linear_schedule_with_warmup(\n",
    "        optimizer=optimizer, num_warmup_steps=0, num_training_steps=num_train_steps\n",
    "    )\n",
    "    best_accuracy = 0\n",
    "    for epochs in range(config.EPOCHS):\n",
    "        train_fn(\n",
    "            data_loader=train_dl,\n",
    "            model=model,\n",
    "            optimizer=optimizer,\n",
    "            device=device,\n",
    "            scheduler=scheduler,\n",
    "        )\n",
    "        outputs, targets = eval_fn(valid_dl, model, device)\n",
    "        outputs = np.array(outputs) >= 0.5\n",
    "        accuracy = metrics.accuracy_score(targets, outputs)\n",
    "        print(f\"Accuracy Score = {accuracy}\")\n",
    "        if accuracy > best_accuracy:\n",
    "            torch.save(model.state_dict(), f\"{epochs}-\".join(config.MODEL_PATH))\n",
    "            best_accuracy = accuracy\n",
    "\n",
    "\n",
    "run()"
   ]
  }
 ],
 "metadata": {
  "interpreter": {
   "hash": "104e742004f910d99bb703cec6a1f8a3698730ee760d601a30f7cdc2e5f32c09"
  },
  "kernelspec": {
   "display_name": "Python 3.9.7 64-bit ('spam-classification-vTzj921K': pipenv)",
   "language": "python",
   "name": "python3"
  },
  "language_info": {
   "codemirror_mode": {
    "name": "ipython",
    "version": 3
   },
   "file_extension": ".py",
   "mimetype": "text/x-python",
   "name": "python",
   "nbconvert_exporter": "python",
   "pygments_lexer": "ipython3",
   "version": "3.9.10"
  },
  "orig_nbformat": 4
 },
 "nbformat": 4,
 "nbformat_minor": 2
}
